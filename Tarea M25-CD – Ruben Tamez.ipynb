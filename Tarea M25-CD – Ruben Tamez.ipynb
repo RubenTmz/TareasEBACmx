{
 "cells": [
  {
   "cell_type": "code",
   "execution_count": 1,
   "id": "dbd0eaf2",
   "metadata": {},
   "outputs": [
    {
     "name": "stdout",
     "output_type": "stream",
     "text": [
      "3.1622776601683795\n"
     ]
    },
    {
     "data": {
      "text/plain": [
       "3.1622776601683795"
      ]
     },
     "execution_count": 1,
     "metadata": {},
     "output_type": "execute_result"
    }
   ],
   "source": [
    "#Función lambda para obtener la raíz cuadrada de un número.\n",
    "def raiz(y):\n",
    "    raiz = y**(.5)\n",
    "    return raiz           #Sin la funcion estudiada\n",
    "print(raiz(10))\n",
    "\n",
    "raiz = lambda x: x**(.5)   #Con la funcion estudiada (lambda)\n",
    "raiz(10)"
   ]
  },
  {
   "cell_type": "code",
   "execution_count": 74,
   "id": "214f3142",
   "metadata": {},
   "outputs": [
    {
     "name": "stdout",
     "output_type": "stream",
     "text": [
      "[4, 5, 3]\n",
      "[4, 5, 3]\n"
     ]
    }
   ],
   "source": [
    "#Función map, para obtener el largo de una cadena de palabras. \n",
    "cadena1 = \"Hola Mundo 123\"\n",
    "palabras = cadena1.split()\n",
    "largo1 = []                      #Sin la funcion estudiada\n",
    "for palabra in palabras:\n",
    "    largo1.append(len(palabra))\n",
    "print(largo1)\n",
    "\n",
    "cadena = \"Hola Mundo 123\"\n",
    "largo = list(map(len, cadena.split()))  #Con la funcion estudiada (map)\n",
    "print(largo)"
   ]
  },
  {
   "cell_type": "code",
   "execution_count": 80,
   "id": "874437a3",
   "metadata": {},
   "outputs": [
    {
     "name": "stdout",
     "output_type": "stream",
     "text": [
      "120\n",
      "120\n"
     ]
    }
   ],
   "source": [
    "#Función reduce, que sirva para calcular el producto de una lista \n",
    "lista = [2, 3, 4, 5]\n",
    "producto = 1\n",
    "\n",
    "for num in lista:\n",
    "    producto *= num          #Sin la funcion estudiada\n",
    "\n",
    "print(producto)\n",
    "\n",
    "\n",
    "from functools import reduce    \n",
    "                                #Con la funcion estudiada (reduce)\n",
    "lista1 = [2, 3, 4, 5]\n",
    "producto1 = reduce(lambda x, y: x * y, lista1)      \n",
    "print(producto1)"
   ]
  },
  {
   "cell_type": "code",
   "execution_count": 83,
   "id": "6cd03511",
   "metadata": {},
   "outputs": [
    {
     "name": "stdout",
     "output_type": "stream",
     "text": [
      "['Hola', 'Python 3']\n",
      "['Hola', 'Python 3']\n"
     ]
    }
   ],
   "source": [
    "#Función filter que sirva para encontrar palabras que contengan mayúsculas o números en un listado \n",
    "palabras = [\"Hola\", \"mundo\", \"Python 3\"]\n",
    "palabras_filtradas = []\n",
    "\n",
    "for palabra in palabras:\n",
    "    tiene_mayuscula = any(c.isupper() for c in palabra) #Sin la funcion estudiada\n",
    "    tiene_numero = any(c.isdigit() for c in palabra)\n",
    "    \n",
    "    if tiene_mayuscula or tiene_numero:\n",
    "        palabras_filtradas.append(palabra)\n",
    "print(palabras_filtradas)\n",
    "\n",
    "\n",
    "palabras1 = [\"Hola\", \"mundo\", \"Python 3\"]\n",
    "                                            #Con la funcion estudiada (filter)\n",
    "palabras_filtradas1 = list(          \n",
    "    filter(lambda p: any(c.isupper() or c.isdigit() for c in p), palabras1)\n",
    ")\n",
    "\n",
    "print(palabras_filtradas1)"
   ]
  }
 ],
 "metadata": {
  "kernelspec": {
   "display_name": "base",
   "language": "python",
   "name": "python3"
  },
  "language_info": {
   "codemirror_mode": {
    "name": "ipython",
    "version": 3
   },
   "file_extension": ".py",
   "mimetype": "text/x-python",
   "name": "python",
   "nbconvert_exporter": "python",
   "pygments_lexer": "ipython3",
   "version": "3.12.7"
  }
 },
 "nbformat": 4,
 "nbformat_minor": 5
}
