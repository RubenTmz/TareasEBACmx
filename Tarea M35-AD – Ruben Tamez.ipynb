{
 "cells": [
  {
   "cell_type": "markdown",
   "id": "9835f191",
   "metadata": {},
   "source": [
    "Tarea M35-AD – RUBEN TAMEZ"
   ]
  },
  {
   "cell_type": "code",
   "execution_count": 134,
   "id": "9172a2c1",
   "metadata": {},
   "outputs": [],
   "source": [
    "import pandas as pd\n",
    "import numpy as np \n",
    "import seaborn as sns\n",
    "import matplotlib.pyplot as plt\n",
    "import os"
   ]
  },
  {
   "cell_type": "code",
   "execution_count": 135,
   "id": "56c9ec21",
   "metadata": {},
   "outputs": [
    {
     "data": {
      "text/html": [
       "<div>\n",
       "<style scoped>\n",
       "    .dataframe tbody tr th:only-of-type {\n",
       "        vertical-align: middle;\n",
       "    }\n",
       "\n",
       "    .dataframe tbody tr th {\n",
       "        vertical-align: top;\n",
       "    }\n",
       "\n",
       "    .dataframe thead th {\n",
       "        text-align: right;\n",
       "    }\n",
       "</style>\n",
       "<table border=\"1\" class=\"dataframe\">\n",
       "  <thead>\n",
       "    <tr style=\"text-align: right;\">\n",
       "      <th></th>\n",
       "      <th>Invoice ID</th>\n",
       "      <th>Branch</th>\n",
       "      <th>City</th>\n",
       "      <th>Customer type</th>\n",
       "      <th>Gender</th>\n",
       "      <th>Product line</th>\n",
       "      <th>Unit price</th>\n",
       "      <th>Quantity</th>\n",
       "      <th>Tax 5%</th>\n",
       "      <th>Total</th>\n",
       "      <th>Date</th>\n",
       "      <th>Time</th>\n",
       "      <th>Payment</th>\n",
       "      <th>cogs</th>\n",
       "      <th>gross margin percentage</th>\n",
       "      <th>gross income</th>\n",
       "      <th>Rating</th>\n",
       "    </tr>\n",
       "  </thead>\n",
       "  <tbody>\n",
       "    <tr>\n",
       "      <th>147</th>\n",
       "      <td>568-90-5112</td>\n",
       "      <td>C</td>\n",
       "      <td>Naypyitaw</td>\n",
       "      <td>Normal</td>\n",
       "      <td>Male</td>\n",
       "      <td>Health and beauty</td>\n",
       "      <td>66.14</td>\n",
       "      <td>4</td>\n",
       "      <td>13.228</td>\n",
       "      <td>277.788</td>\n",
       "      <td>3/19/2019</td>\n",
       "      <td>12:46</td>\n",
       "      <td>Credit card</td>\n",
       "      <td>264.56</td>\n",
       "      <td>4.761905</td>\n",
       "      <td>13.228</td>\n",
       "      <td>5.6</td>\n",
       "    </tr>\n",
       "  </tbody>\n",
       "</table>\n",
       "</div>"
      ],
      "text/plain": [
       "      Invoice ID Branch       City Customer type Gender       Product line  \\\n",
       "147  568-90-5112      C  Naypyitaw        Normal   Male  Health and beauty   \n",
       "\n",
       "     Unit price  Quantity  Tax 5%    Total       Date   Time      Payment  \\\n",
       "147       66.14         4  13.228  277.788  3/19/2019  12:46  Credit card   \n",
       "\n",
       "       cogs  gross margin percentage  gross income  Rating  \n",
       "147  264.56                 4.761905        13.228     5.6  "
      ]
     },
     "execution_count": 135,
     "metadata": {},
     "output_type": "execute_result"
    }
   ],
   "source": [
    "os.chdir('C:/Users/Rubén/Documents/DATA ANALIST/')\n",
    "df = pd.read_csv('supermarket_sales.csv')\n",
    "df.sample(1)"
   ]
  },
  {
   "cell_type": "code",
   "execution_count": 136,
   "id": "6208da36",
   "metadata": {},
   "outputs": [
    {
     "name": "stdout",
     "output_type": "stream",
     "text": [
      "Estadísticas básicas de unit_price: (55.67213, 55.230000000000004, 83.77)\n",
      "Estadísticas básicas de quantity: (5.51, 5.0, 10)\n"
     ]
    }
   ],
   "source": [
    "# Generar estadística descriptiva básica en las columnas unit_price y quantity: Cálculo de la media, mediana, moda\n",
    "def basic_statistics(df, column):\n",
    "    mean = df[column].mean()\n",
    "    median = df[column].median()\n",
    "    mode = df[column].mode()[0]  # mode() returns a Series, take the first value\n",
    "    return mean, median, mode\n",
    "print(\"Estadísticas básicas de unit_price:\", basic_statistics(df, 'Unit price'))\n",
    "print(\"Estadísticas básicas de quantity:\", basic_statistics(df, 'Quantity'))"
   ]
  },
  {
   "cell_type": "code",
   "execution_count": 137,
   "id": "01c21e39",
   "metadata": {},
   "outputs": [
    {
     "name": "stdout",
     "output_type": "stream",
     "text": [
      "Tiket promedio 1) por ciudad,\n",
      "Ticket promedio en Yangon: 312.35\n",
      "Ticket promedio en Naypyitaw: 337.10\n",
      "Ticket promedio en Mandalay: 319.87\n",
      "\n",
      "\n"
     ]
    }
   ],
   "source": [
    "# Obtener el ticket promedio:\n",
    "print('Tiket promedio 1) por ciudad,')\n",
    "for city in df['City'].unique():\n",
    "    avg_ticket = df[df['City'] == city]['Total'].mean()\n",
    "    print(f\"Ticket promedio en {city}: {avg_ticket:.2f}\")\n",
    "print('\\n')"
   ]
  },
  {
   "cell_type": "code",
   "execution_count": 138,
   "id": "23b1196b",
   "metadata": {},
   "outputs": [
    {
     "name": "stdout",
     "output_type": "stream",
     "text": [
      "2) por product line y ciudad,\n",
      "Ticket promedio en Yangon para Health and beauty: 268.04\n",
      "Ticket promedio en Yangon para Electronic accessories: 305.29\n",
      "Ticket promedio en Yangon para Home and lifestyle: 344.88\n",
      "Ticket promedio en Yangon para Sports and travel: 328.35\n",
      "Ticket promedio en Yangon para Food and beverages: 295.92\n",
      "Ticket promedio en Yangon para Fashion accessories: 320.25\n",
      "Ticket promedio en Naypyitaw para Health and beauty: 319.53\n",
      "Ticket promedio en Naypyitaw para Electronic accessories: 344.89\n",
      "Ticket promedio en Naypyitaw para Home and lifestyle: 308.79\n",
      "Ticket promedio en Naypyitaw para Sports and travel: 350.27\n",
      "Ticket promedio en Naypyitaw para Food and beverages: 360.10\n",
      "Ticket promedio en Naypyitaw para Fashion accessories: 331.69\n",
      "Ticket promedio en Mandalay para Health and beauty: 376.99\n",
      "Ticket promedio en Mandalay para Electronic accessories: 310.03\n",
      "Ticket promedio en Mandalay para Home and lifestyle: 350.98\n",
      "Ticket promedio en Mandalay para Sports and travel: 322.39\n",
      "Ticket promedio en Mandalay para Food and beverages: 304.30\n",
      "Ticket promedio en Mandalay para Fashion accessories: 264.73\n"
     ]
    }
   ],
   "source": [
    "print('2) por product line y ciudad,')\n",
    "for city in df['City'].unique():\n",
    "    for product_line in df['Product line'].unique():\n",
    "        avg_ticket = df[(df['City'] == city) & (df['Product line'] == product_line)]['Total'].mean()\n",
    "        print(f\"Ticket promedio en {city} para {product_line}: {avg_ticket:.2f}\")"
   ]
  },
  {
   "cell_type": "code",
   "execution_count": 139,
   "id": "73973181",
   "metadata": {},
   "outputs": [
    {
     "name": "stdout",
     "output_type": "stream",
     "text": [
      "3) por género,\n",
      "Ticket promedio de Female: 335.1\n",
      "Ticket promedio de Male: 310.79\n"
     ]
    }
   ],
   "source": [
    "print(\"3) por género,\")\n",
    "avg_ticket = df.groupby('Gender')['Total'].mean().round(2)\n",
    "for gender in df['Gender'].unique():\n",
    "    print(f\"Ticket promedio de {gender}: {avg_ticket[gender]}\")"
   ]
  },
  {
   "cell_type": "code",
   "execution_count": 140,
   "id": "8da9a885",
   "metadata": {},
   "outputs": [
    {
     "name": "stdout",
     "output_type": "stream",
     "text": [
      "4) por género y product line:\n",
      "Ticket promedio en Female para Health and beauty: 290.02\n",
      "Ticket promedio en Female para Electronic accessories: 322.64\n",
      "Ticket promedio en Female para Home and lifestyle: 380.21\n",
      "Ticket promedio en Female para Sports and travel: 324.71\n",
      "Ticket promedio en Female para Food and beverages: 368.57\n",
      "Ticket promedio en Female para Fashion accessories: 317.06\n",
      "Ticket promedio en Male para Health and beauty: 348.10\n",
      "Ticket promedio en Male para Electronic accessories: 316.69\n",
      "Ticket promedio en Male para Home and lifestyle: 294.14\n",
      "Ticket promedio en Male para Sports and travel: 340.36\n",
      "Ticket promedio en Male para Food and beverages: 273.50\n",
      "Ticket promedio en Male para Fashion accessories: 291.08\n"
     ]
    }
   ],
   "source": [
    "print(\"4) por género y product line:\")\n",
    "for gender in df['Gender'].unique():\n",
    "    for product_line in df['Product line'].unique():\n",
    "        avg_ticket = df[(df['Gender'] == gender) & (df['Product line'] == product_line)]['Total'].mean()\n",
    "        print(f\"Ticket promedio en {gender} para {product_line}: {avg_ticket:.2f}\")"
   ]
  },
  {
   "cell_type": "code",
   "execution_count": 141,
   "id": "8deb5d68",
   "metadata": {},
   "outputs": [
    {
     "name": "stdout",
     "output_type": "stream",
     "text": [
      "Top 5 ventas en Yangon:\n",
      "Product line\n",
      "Home and lifestyle        22417.1955\n",
      "Sports and travel         19372.6995\n",
      "Electronic accessories    18317.1135\n",
      "Food and beverages        17163.1005\n",
      "Fashion accessories       16332.5085\n",
      "Name: Total, dtype: float64\n",
      "\n",
      "Top 5 ventas en Naypyitaw:\n",
      "Product line\n",
      "Food and beverages        23766.8550\n",
      "Fashion accessories       21560.0700\n",
      "Electronic accessories    18968.9745\n",
      "Health and beauty         16615.3260\n",
      "Sports and travel         15761.9280\n",
      "Name: Total, dtype: float64\n",
      "\n",
      "Top 5 ventas en Mandalay:\n",
      "Product line\n",
      "Sports and travel         19988.1990\n",
      "Health and beauty         19980.6600\n",
      "Home and lifestyle        17549.1645\n",
      "Electronic accessories    17051.4435\n",
      "Fashion accessories       16413.3165\n",
      "Name: Total, dtype: float64\n",
      "\n"
     ]
    }
   ],
   "source": [
    "# Usar el método rank para generar top 5 de:\n",
    "# 1) ventas por ciudad,\n",
    "for city in df['City'].unique():\n",
    "    top_sales = df[df['City'] == city].groupby('Product line')['Total'].sum().nlargest(5)\n",
    "    print(f\"Top 5 ventas en {city}:\\n{top_sales}\\n\")"
   ]
  },
  {
   "cell_type": "code",
   "execution_count": 142,
   "id": "09da1fac",
   "metadata": {},
   "outputs": [
    {
     "name": "stdout",
     "output_type": "stream",
     "text": [
      "Top 5 ventas para Member:\n",
      "Product line\n",
      "Food and beverages     31357.6200\n",
      "Sports and travel      28234.3005\n",
      "Home and lifestyle     27978.0270\n",
      "Fashion accessories    26323.9620\n",
      "Health and beauty      25831.0395\n",
      "Name: Total, dtype: float64\n",
      "\n",
      "Top 5 ventas para Normal:\n",
      "Product line\n",
      "Electronic accessories    29839.0365\n",
      "Fashion accessories       27981.9330\n",
      "Sports and travel         26888.5260\n",
      "Home and lifestyle        25883.8860\n",
      "Food and beverages        24787.2240\n",
      "Name: Total, dtype: float64\n",
      "\n"
     ]
    }
   ],
   "source": [
    "# 2) ventas por member,\n",
    "for member in df['Customer type'].unique():\n",
    "    top_sales = df[df['Customer type'] == member].groupby('Product line')['Total'].sum().nlargest(5)\n",
    "    print(f\"Top 5 ventas para {member}:\\n{top_sales}\\n\")"
   ]
  },
  {
   "cell_type": "code",
   "execution_count": 143,
   "id": "38fb3135",
   "metadata": {},
   "outputs": [
    {
     "name": "stdout",
     "output_type": "stream",
     "text": [
      "Ventas con Ewallet: 109993.11 (34.06% del total)\n",
      "Ventas con Cash: 112206.57 (34.74% del total)\n",
      "Ventas con Credit card: 100767.07 (31.20% del total)\n"
     ]
    }
   ],
   "source": [
    "#3) ventas por payment. Obtener además el % de aporte de cada categoría. P.ej. La ciudad X aporta con el 25% del total de ventas, etc.\n",
    "for payment in df['Payment'].unique():\n",
    "    total_sales = df['Total'].sum()\n",
    "    payment_sales = df[df['Payment'] == payment]['Total'].sum()\n",
    "    percentage = (payment_sales / total_sales) * 100\n",
    "    print(f\"Ventas con {payment}: {payment_sales:.2f} ({percentage:.2f}% del total)\")"
   ]
  },
  {
   "cell_type": "code",
   "execution_count": 146,
   "id": "2271a1cf",
   "metadata": {},
   "outputs": [
    {
     "data": {
      "image/png": "[encoded data removed]",
      "text/plain": [
       "<Figure size 1000x800 with 2 Axes>"
      ]
     },
     "metadata": {},
     "output_type": "display_data"
    }
   ],
   "source": [
    "# Cálculo de una matriz de correlación entre la hora (sin minutos) y el total, y otra que correlacione el unit_price con el rating de la transacción, para validar si los productos más caros son los que dejan más margen\n",
    "\n",
    "# Crear la columna 'Hour' a partir de la columna 'Time'\n",
    "if 'Hour' not in df.columns:\n",
    "\tdf['Hour'] = df['Time'].str.split(':').str[0].astype(int)\n",
    "\n",
    "corr_matrix = df[['Hour', 'Total', 'Unit price', 'Rating']].corr()\n",
    "plt.figure(figsize=(10, 8))\n",
    "sns.heatmap(corr_matrix, annot=True, cmap='coolwarm', square=True, cbar_kws={\"shrink\": .8}, mask=np.triu(corr_matrix))\n",
    "plt.title('Matriz de Correlación')\n",
    "plt.show()"
   ]
  }
 ],
 "metadata": {
  "kernelspec": {
   "display_name": "base",
   "language": "python",
   "name": "python3"
  },
  "language_info": {
   "codemirror_mode": {
    "name": "ipython",
    "version": 3
   },
   "file_extension": ".py",
   "mimetype": "text/x-python",
   "name": "python",
   "nbconvert_exporter": "python",
   "pygments_lexer": "ipython3",
   "version": "3.12.7"
  }
 },
 "nbformat": 4,
 "nbformat_minor": 5
}
