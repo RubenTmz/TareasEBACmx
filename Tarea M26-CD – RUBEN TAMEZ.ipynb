{
 "cells": [
  {
   "cell_type": "code",
   "execution_count": 60,
   "id": "2a219bf3",
   "metadata": {},
   "outputs": [
    {
     "name": "stdout",
     "output_type": "stream",
     "text": [
      "Importacion de librerias\n"
     ]
    }
   ],
   "source": [
    "print(\"Importacion de librerias\")\n",
    "import pandas as pd\n",
    "import os"
   ]
  },
  {
   "cell_type": "code",
   "execution_count": 61,
   "id": "b32f16a9",
   "metadata": {},
   "outputs": [
    {
     "name": "stdout",
     "output_type": "stream",
     "text": [
      "Cambiar directorio a un directorio de su preferencia\n",
      "Directorio actual: C:\\Users\\Rubén\\Documents\\DATA ANALIST\n"
     ]
    }
   ],
   "source": [
    "print(\"Cambiar directorio a un directorio de su preferencia\")\n",
    "os.chdir('C:/Users/Rubén/Documents/DATA ANALIST')\n",
    "print(\"Directorio actual:\", os.getcwd())"
   ]
  },
  {
   "cell_type": "code",
   "execution_count": 62,
   "id": "9408a78b",
   "metadata": {},
   "outputs": [
    {
     "name": "stdout",
     "output_type": "stream",
     "text": [
      "Lee el archivo CSV\n"
     ]
    }
   ],
   "source": [
    "print(\"Lee el archivo CSV\")\n",
    "df = pd.read_csv('C:/Users/Rubén/Documents/DATA ANALIST/Height of Male and Female by Country 2022.csv')\n"
   ]
  },
  {
   "cell_type": "code",
   "execution_count": 63,
   "id": "6f9ae6a7",
   "metadata": {},
   "outputs": [
    {
     "name": "stdout",
     "output_type": "stream",
     "text": [
      "Imprimir las primeras 50 líneas\n",
      "    Rank                      Country Name  Male Height in Cm  \\\n",
      "0      1                       Netherlands             183.78   \n",
      "1      2                        Montenegro             183.30   \n",
      "2      3                           Estonia             182.79   \n",
      "3      4            Bosnia and Herzegovina             182.47   \n",
      "4      5                           Iceland             182.10   \n",
      "5      6                           Denmark             181.89   \n",
      "6      7                    Czech Republic             181.19   \n",
      "7      8                            Latvia             181.17   \n",
      "8      9                          Slovakia             181.02   \n",
      "9     10                          Slovenia             180.98   \n",
      "10    11                           Ukraine             180.98   \n",
      "11    12                           Croatia             180.76   \n",
      "12    13                            Serbia             180.74   \n",
      "13    14                         Lithuania             180.72   \n",
      "14    15                            Poland             180.69   \n",
      "15    16                           Finland             180.57   \n",
      "16    17                            Norway             180.48   \n",
      "17    18                            Sweden             180.46   \n",
      "18    19                           Germany             180.28   \n",
      "19    20                          Dominica             180.15   \n",
      "20    21                           Bermuda             179.72   \n",
      "21    22                       Puerto Rico             179.48   \n",
      "22    23                            Greece             179.26   \n",
      "23    24                           Belgium             179.09   \n",
      "24    25                           Ireland             179.04   \n",
      "25    26                           Lebanon             178.96   \n",
      "26    27                           Andorra             178.84   \n",
      "27    28               Antigua and Barbuda             178.84   \n",
      "28    29                         Australia             178.77   \n",
      "29    30                            Canada             178.75   \n",
      "30    31                       Switzerland             178.73   \n",
      "31    32                           Grenada             178.70   \n",
      "32    33                           Belarus             178.69   \n",
      "33    34                            France             178.60   \n",
      "34    35                           Austria             178.52   \n",
      "35    36                        Luxembourg             178.46   \n",
      "36    37                      Cook Islands             178.32   \n",
      "37    38                  French Polynesia             178.32   \n",
      "38    39                    United Kingdom             178.21   \n",
      "39    40                           Romania             177.82   \n",
      "40    41                       New Zealand             177.72   \n",
      "41    42  Saint Vincent and the Grenadines             177.49   \n",
      "42    43                              Niue             177.19   \n",
      "43    44                    American Samoa             177.09   \n",
      "44    45                          Barbados             177.03   \n",
      "45    46                           Jamaica             176.97   \n",
      "46    47                     United States             176.94   \n",
      "47    48                           Tunisia             176.85   \n",
      "48    49                            Russia             176.65   \n",
      "49    50                           Hungary             176.59   \n",
      "\n",
      "    Female Height in Cm  Male Height in Ft  Female Height in Ft  \n",
      "0                170.36               6.03                 5.59  \n",
      "1                169.96               6.01                 5.58  \n",
      "2                168.66               6.00                 5.53  \n",
      "3                167.47               5.99                 5.49  \n",
      "4                168.91               5.97                 5.54  \n",
      "5                169.47               5.97                 5.56  \n",
      "6                167.96               5.94                 5.51  \n",
      "7                168.81               5.94                 5.54  \n",
      "8                167.12               5.94                 5.48  \n",
      "9                167.20               5.94                 5.49  \n",
      "10               166.62               5.94                 5.47  \n",
      "11               166.80               5.93                 5.47  \n",
      "12               168.29               5.93                 5.52  \n",
      "13               167.63               5.93                 5.50  \n",
      "14               165.78               5.93                 5.44  \n",
      "15               166.48               5.92                 5.46  \n",
      "16               166.45               5.92                 5.46  \n",
      "17               166.67               5.92                 5.47  \n",
      "18               166.18               5.91                 5.45  \n",
      "19               166.89               5.91                 5.48  \n",
      "20               166.11               5.90                 5.45  \n",
      "21               163.06               5.89                 5.35  \n",
      "22               165.81               5.88                 5.44  \n",
      "23               163.40               5.88                 5.36  \n",
      "24               164.50               5.87                 5.40  \n",
      "25               163.67               5.87                 5.37  \n",
      "26               165.53               5.87                 5.43  \n",
      "27               165.72               5.87                 5.44  \n",
      "28               164.67               5.87                 5.40  \n",
      "29               164.73               5.86                 5.40  \n",
      "30               164.33               5.86                 5.39  \n",
      "31               165.99               5.86                 5.45  \n",
      "32               166.93               5.86                 5.48  \n",
      "33               164.49               5.86                 5.40  \n",
      "34               166.93               5.86                 5.48  \n",
      "35               165.07               5.86                 5.42  \n",
      "36               167.31               5.85                 5.49  \n",
      "37               166.52               5.85                 5.46  \n",
      "38               163.94               5.85                 5.38  \n",
      "39               164.73               5.83                 5.40  \n",
      "40               164.66               5.83                 5.40  \n",
      "41               165.30               5.82                 5.42  \n",
      "42               167.03               5.81                 5.48  \n",
      "43               167.55               5.81                 5.50  \n",
      "44               165.66               5.81                 5.44  \n",
      "45               164.32               5.81                 5.39  \n",
      "46               163.31               5.81                 5.36  \n",
      "47               161.69               5.80                 5.30  \n",
      "48               164.52               5.80                 5.40  \n",
      "49               162.55               5.79                 5.33  \n"
     ]
    }
   ],
   "source": [
    "print(\"Imprimir las primeras 50 líneas\")\n",
    "print(df.head(50))\n"
   ]
  },
  {
   "cell_type": "code",
   "execution_count": 64,
   "id": "e80509ff",
   "metadata": {},
   "outputs": [
    {
     "name": "stdout",
     "output_type": "stream",
     "text": [
      "Calcular media, mínima y máxima altura de hombres y mujeres:\n",
      "\n",
      "Hombres:\n",
      "Media: 173.08904522613065\n",
      "Mínima: 160.13\n",
      "Máxima: 183.78\n",
      "\n",
      "Mujeres:\n",
      "Media: 160.9429145728643\n",
      "Mínima: 150.91\n",
      "Máxima: 170.36\n"
     ]
    }
   ],
   "source": [
    "print(\"Calcular media, mínima y máxima altura de hombres y mujeres:\")\n",
    "\n",
    "print(\"\\nHombres:\")\n",
    "print(\"Media:\", df[\"Male Height in Cm\"].mean())\n",
    "print(\"Mínima:\", df[\"Male Height in Cm\"].min())\n",
    "print(\"Máxima:\", df[\"Male Height in Cm\"].max())\n",
    "\n",
    "print(\"\\nMujeres:\")\n",
    "print(\"Media:\", df[\"Female Height in Cm\"].mean())\n",
    "print(\"Mínima:\", df[\"Female Height in Cm\"].min())\n",
    "print(\"Máxima:\", df[\"Female Height in Cm\"].max())"
   ]
  },
  {
   "cell_type": "code",
   "execution_count": 65,
   "id": "e3d1d868",
   "metadata": {},
   "outputs": [
    {
     "name": "stdout",
     "output_type": "stream",
     "text": [
      "Obtener las alturas de tu país de origen:\n",
      "\n",
      " Alturas para Mexico:\n",
      "     Rank Country Name  Male Height in Cm  Female Height in Cm  \\\n",
      "138   139       Mexico             170.29                157.9   \n",
      "\n",
      "     Male Height in Ft  Female Height in Ft  \n",
      "138               5.59                 5.18  \n"
     ]
    }
   ],
   "source": [
    "print(\"Obtener las alturas de tu país de origen:\")\n",
    "pais = \"Mexico\"\n",
    "altura_pais = df[df[\"Country Name\"] == pais]\n",
    "\n",
    "print(f\"\\n Alturas para {pais}:\")\n",
    "print(altura_pais)"
   ]
  }
 ],
 "metadata": {
  "kernelspec": {
   "display_name": "base",
   "language": "python",
   "name": "python3"
  },
  "language_info": {
   "codemirror_mode": {
    "name": "ipython",
    "version": 3
   },
   "file_extension": ".py",
   "mimetype": "text/x-python",
   "name": "python",
   "nbconvert_exporter": "python",
   "pygments_lexer": "ipython3",
   "version": "3.12.7"
  }
 },
 "nbformat": 4,
 "nbformat_minor": 5
}
