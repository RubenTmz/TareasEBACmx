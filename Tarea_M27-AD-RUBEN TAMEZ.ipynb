{
 "cells": [
  {
   "cell_type": "markdown",
   "id": "1e8178bd",
   "metadata": {},
   "source": [
    "# Tarea M27-AD – RUBEN TAMEZ"
   ]
  },
  {
   "cell_type": "code",
   "execution_count": 10,
   "id": "cf1303da",
   "metadata": {},
   "outputs": [
    {
     "name": "stdout",
     "output_type": "stream",
     "text": [
      "*ERROR* !El archivo no fue encontrado!\n",
      "Fin del intento de lectura.\n"
     ]
    }
   ],
   "source": [
    "# Generar las excepciones y mensajes de error correspondientes.\n",
    "\n",
    "try:\n",
    "    with open(\"test.txt\", \"r\") as file:         # Excepciones y las funciones TRY/EXCEPT \n",
    "        content = file.read()\n",
    "        print(content)\n",
    "except FileNotFoundError:\n",
    "    print(\"*ERROR* !El archivo no fue encontrado!\")\n",
    "else:\n",
    "    print(\"Archivo leído correctamente.\")       # Ejemplos con TRY/EXCEPT/ELSE/FINALLY \n",
    "finally:\n",
    "    print(\"Fin del intento de lectura.\")"
   ]
  },
  {
   "cell_type": "code",
   "execution_count": 12,
   "id": "ec360232",
   "metadata": {},
   "outputs": [
    {
     "ename": "ZeroDivisionError",
     "evalue": "division by zero",
     "output_type": "error",
     "traceback": [
      "\u001b[1;31m---------------------------------------------------------------------------\u001b[0m",
      "\u001b[1;31mZeroDivisionError\u001b[0m                         Traceback (most recent call last)",
      "Cell \u001b[1;32mIn[12], line 10\u001b[0m\n\u001b[0;32m      7\u001b[0m d \u001b[38;5;241m=\u001b[39m \u001b[38;5;241m20\u001b[39m\n\u001b[0;32m      9\u001b[0m suma \u001b[38;5;241m=\u001b[39m a \u001b[38;5;241m+\u001b[39m b \u001b[38;5;241m+\u001b[39m c \u001b[38;5;241m+\u001b[39m d\n\u001b[1;32m---> 10\u001b[0m resultado \u001b[38;5;241m=\u001b[39m suma \u001b[38;5;241m/\u001b[39m \u001b[38;5;241m0\u001b[39m \n\u001b[0;32m     11\u001b[0m \u001b[38;5;28mprint\u001b[39m(resultado)\n",
      "\u001b[1;31mZeroDivisionError\u001b[0m: division by zero"
     ]
    }
   ],
   "source": [
    "# Debugging de archivos Python. Generar una celda con una operación matemática simple \n",
    "# (p.ej. La suma de 4 números y esta suma dividida para cero), y mostrar los diferentes pasos que se siguieron haciendo su debugging\n",
    "\n",
    "a = 5\n",
    "b = 10\n",
    "c = 15\n",
    "d = 20\n",
    "\n",
    "suma = a + b + c + d\n",
    "resultado = suma / 0 \n",
    "print(resultado)"
   ]
  }
 ],
 "metadata": {
  "kernelspec": {
   "display_name": "base",
   "language": "python",
   "name": "python3"
  },
  "language_info": {
   "codemirror_mode": {
    "name": "ipython",
    "version": 3
   },
   "file_extension": ".py",
   "mimetype": "text/x-python",
   "name": "python",
   "nbconvert_exporter": "python",
   "pygments_lexer": "ipython3",
   "version": "3.12.7"
  }
 },
 "nbformat": 4,
 "nbformat_minor": 5
}
